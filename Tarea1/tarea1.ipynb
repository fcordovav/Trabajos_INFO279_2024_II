{
 "cells": [
  {
   "cell_type": "markdown",
   "metadata": {},
   "source": [
    "Nombre: Felipe Córdova  \n",
    "Fecha: 09-10-2024\n",
    "\n",
    "# Tarea 1: Tratamiento Automático del Lenguaje INFO279\n",
    "\n",
    "Esta tarea incluye dos desafíos que aplican los algoritmos estudiados en clases sobre tratamiento automático del lenguaje.\n",
    "\n",
    "\n",
    "#### <u>Desafío 1</u>\n",
    "\n",
    "Construir un modelo de inteligencia artificial capaz de clasificar noticias de prensa según su categoría temática principal. \n",
    "\n",
    "Las categorias a detectar con el modelo son las siguientes:  \n",
    "- ciencia           \n",
    "- accidentes            \n",
    "- deportes            \n",
    "- politica           \n",
    "- internacional    \n",
    "- entretenimiento  \n",
    "- economia        \n",
    "- medio_ambiente     \n",
    "- educacion       \n",
    "- tecnologia   \n",
    "- salud  \n",
    "\n",
    "#### <u>Desafío 2</u>\n",
    "\n",
    "Geolocalizar eventos en noticias utilizando técnicas de tratamiento automático del lenguaje, el objetivo del desafío es estructurar la información de una noticia de la manera siguiente:\n",
    "\n",
    "- event: principal evento descrito en la noticia\n",
    "- category: categoria temática del evento\n",
    "- address: dirección dónde occurió el evento en formato: calle número, comuna, país\n",
    "- latitud: latitud del evento\n",
    "- longitud: longitud del evento\n",
    "\n",
    "\n",
    "\n",
    "#### Evaluación del desafío\n",
    "Se evaluará su método en base a 100 noticias etiquetadas con las métricas siguientes:\n",
    "\n",
    "- Category: Precision y Recall\n",
    "- Longitud y Latitud: Exactitud (con una margen de error de 100 metros)\n"
   ]
  },
  {
   "cell_type": "markdown",
   "metadata": {},
   "source": [
    "# Dataset utilizado para los desafios.\n",
    "\n",
    "Para este problema, se utiliza un dataset llamado [dataset_agosto2024.csv](https://drive.google.com/drive/folders/1YjYSmZmyGIyXYJfoVDy-FNB-NJFPGtFo) obtenido de la organización Sophia2, propiedad del profesor Matthieu Vernier, que realiza scraping de medios de prensa en Chile y recopila todas las noticias del mes de agosto de 2024.\n",
    "\n",
    "El dataset incluye los siguientes atributos:\n",
    "\n",
    "- __<u>date</u>__: Fecha de la noticia.\n",
    "- __<u>media_outlet</u>__: Medio de comunicación donde se publicó la noticia.\n",
    "- __<u>text</u>__: Contenido de la noticia.\n",
    "- __<u>url</u>__: Dirección web de la noticia.\n",
    "- __<u>title</u>__: Título de la noticia.\n",
    "- __<u>id_news</u>__: Identificador único de la noticia.\n",
    "\n",
    "\n",
    "Para poder entrenar un modelo de Inteligencia Artificial, se usa el dataset visto en clases de [train_data.csv](https://drive.google.com/drive/folders/1YjYSmZmyGIyXYJfoVDy-FNB-NJFPGtFo). Este dataset es muy similar al anterior, pero en este caso, las noticias ya están etiquetadas. Nuestro objetivo es entrenar un modelo que sea capaz de clasificar correctamente el **dataset_agosto2024**.\n"
   ]
  },
  {
   "cell_type": "markdown",
   "metadata": {},
   "source": [
    "1. Lectura dataset de prueba noticias Agosto 2024"
   ]
  },
  {
   "cell_type": "code",
   "execution_count": 71,
   "metadata": {},
   "outputs": [],
   "source": [
    "import pandas as pd\n",
    "\n",
    "archivo = \"data/dataset_agosto2024.csv\"\n",
    "test_df = pd.read_csv(archivo)"
   ]
  },
  {
   "cell_type": "code",
   "execution_count": 72,
   "metadata": {},
   "outputs": [
    {
     "data": {
      "text/html": [
       "<div>\n",
       "<style scoped>\n",
       "    .dataframe tbody tr th:only-of-type {\n",
       "        vertical-align: middle;\n",
       "    }\n",
       "\n",
       "    .dataframe tbody tr th {\n",
       "        vertical-align: top;\n",
       "    }\n",
       "\n",
       "    .dataframe thead th {\n",
       "        text-align: right;\n",
       "    }\n",
       "</style>\n",
       "<table border=\"1\" class=\"dataframe\">\n",
       "  <thead>\n",
       "    <tr style=\"text-align: right;\">\n",
       "      <th></th>\n",
       "      <th>date</th>\n",
       "      <th>media_outlet</th>\n",
       "      <th>text</th>\n",
       "      <th>url</th>\n",
       "      <th>title</th>\n",
       "      <th>id_news</th>\n",
       "    </tr>\n",
       "  </thead>\n",
       "  <tbody>\n",
       "    <tr>\n",
       "      <th>0</th>\n",
       "      <td>Aug 29, 2024 @ 20:00:00.000</td>\n",
       "      <td>cnnchile</td>\n",
       "      <td>Durante el enfrentamiento, el exfuncionario po...</td>\n",
       "      <td>https://www.cnnchile.com/pais/dos-lesionados-m...</td>\n",
       "      <td>Dos lesionados y un muerto deja enfrentamiento...</td>\n",
       "      <td>53.579.048</td>\n",
       "    </tr>\n",
       "    <tr>\n",
       "      <th>1</th>\n",
       "      <td>Aug 29, 2024 @ 20:00:00.000</td>\n",
       "      <td>elobservador</td>\n",
       "      <td>LA CALERA.- El jueves 29 de agosto, Carabinero...</td>\n",
       "      <td>https://www.observador.cl/la-calera-con-barric...</td>\n",
       "      <td>La Calera: Con barricada intentaron evitar que...</td>\n",
       "      <td>53.579.054</td>\n",
       "    </tr>\n",
       "    <tr>\n",
       "      <th>2</th>\n",
       "      <td>Aug 29, 2024 @ 20:00:00.000</td>\n",
       "      <td>t13</td>\n",
       "      <td>(empty)</td>\n",
       "      <td>https://www.t13.cl/noticia/mundo/juez-del-supr...</td>\n",
       "      <td>Tribunal Supremo de Brasil ordenó bloquear ‘X...</td>\n",
       "      <td>53.578.540</td>\n",
       "    </tr>\n",
       "    <tr>\n",
       "      <th>3</th>\n",
       "      <td>Aug 29, 2024 @ 20:00:00.000</td>\n",
       "      <td>laserenaonline</td>\n",
       "      <td>(empty)</td>\n",
       "      <td>https://laserenaonline.cl/2024/08/30/terminal-...</td>\n",
       "      <td>Terminal de buses de Illapel retoma operacione...</td>\n",
       "      <td>53.579.988</td>\n",
       "    </tr>\n",
       "    <tr>\n",
       "      <th>4</th>\n",
       "      <td>Aug 29, 2024 @ 20:00:00.000</td>\n",
       "      <td>laregionhoy</td>\n",
       "      <td>Hasta el viernes 4 de octubre a las 23:59 hora...</td>\n",
       "      <td>https://laregionhoy.cl/2024/08/30/uv-lanza-bas...</td>\n",
       "      <td>UV lanza bases de versión 2024 del Festival Na...</td>\n",
       "      <td>53.580.012</td>\n",
       "    </tr>\n",
       "    <tr>\n",
       "      <th>...</th>\n",
       "      <td>...</td>\n",
       "      <td>...</td>\n",
       "      <td>...</td>\n",
       "      <td>...</td>\n",
       "      <td>...</td>\n",
       "      <td>...</td>\n",
       "    </tr>\n",
       "    <tr>\n",
       "      <th>20222</th>\n",
       "      <td>Aug 1, 2024 @ 20:00:00.000</td>\n",
       "      <td>biobiochile</td>\n",
       "      <td>La ministra del Interior, Carolina Tohá, entre...</td>\n",
       "      <td>https://www.biobiochile.cl/noticias/nacional/r...</td>\n",
       "      <td>Ministra Tohá asegura que se resolvió la emerg...</td>\n",
       "      <td>53.878.844</td>\n",
       "    </tr>\n",
       "    <tr>\n",
       "      <th>20223</th>\n",
       "      <td>Aug 1, 2024 @ 20:00:00.000</td>\n",
       "      <td>biobiochile</td>\n",
       "      <td>La tarde de ayer jueves, la Brigada de Homicid...</td>\n",
       "      <td>https://www.biobiochile.cl/noticias/nacional/r...</td>\n",
       "      <td>El último viaje de Rosa Lira: las pistas clave...</td>\n",
       "      <td>53.878.403</td>\n",
       "    </tr>\n",
       "    <tr>\n",
       "      <th>20224</th>\n",
       "      <td>Aug 1, 2024 @ 20:00:00.000</td>\n",
       "      <td>biobiochile</td>\n",
       "      <td>Aguas Andinas alerta sobre posibles afectacion...</td>\n",
       "      <td>https://www.biobiochile.cl/noticias/nacional/r...</td>\n",
       "      <td>Aguas Andinas anuncia suspensión de suministro...</td>\n",
       "      <td>53.879.010</td>\n",
       "    </tr>\n",
       "    <tr>\n",
       "      <th>20225</th>\n",
       "      <td>Aug 1, 2024 @ 20:00:00.000</td>\n",
       "      <td>biobiochile</td>\n",
       "      <td>El Gobierno informó la dimisión del subsecreta...</td>\n",
       "      <td>https://www.biobiochile.cl/noticias/nacional/c...</td>\n",
       "      <td>Renuncia Xavier Altamirano a la Subsecretaría ...</td>\n",
       "      <td>53.879.110</td>\n",
       "    </tr>\n",
       "    <tr>\n",
       "      <th>20226</th>\n",
       "      <td>Aug 1, 2024 @ 20:00:00.000</td>\n",
       "      <td>biobiochile</td>\n",
       "      <td>Un camión de carga volcó hacia su izquierda en...</td>\n",
       "      <td>https://www.biobiochile.cl/noticias/nacional/r...</td>\n",
       "      <td>Camión de carga vuelca en sector de Colcura en...</td>\n",
       "      <td>53.879.138</td>\n",
       "    </tr>\n",
       "  </tbody>\n",
       "</table>\n",
       "<p>20227 rows × 6 columns</p>\n",
       "</div>"
      ],
      "text/plain": [
       "                              date    media_outlet  \\\n",
       "0      Aug 29, 2024 @ 20:00:00.000        cnnchile   \n",
       "1      Aug 29, 2024 @ 20:00:00.000    elobservador   \n",
       "2      Aug 29, 2024 @ 20:00:00.000             t13   \n",
       "3      Aug 29, 2024 @ 20:00:00.000  laserenaonline   \n",
       "4      Aug 29, 2024 @ 20:00:00.000     laregionhoy   \n",
       "...                            ...             ...   \n",
       "20222   Aug 1, 2024 @ 20:00:00.000     biobiochile   \n",
       "20223   Aug 1, 2024 @ 20:00:00.000     biobiochile   \n",
       "20224   Aug 1, 2024 @ 20:00:00.000     biobiochile   \n",
       "20225   Aug 1, 2024 @ 20:00:00.000     biobiochile   \n",
       "20226   Aug 1, 2024 @ 20:00:00.000     biobiochile   \n",
       "\n",
       "                                                    text  \\\n",
       "0      Durante el enfrentamiento, el exfuncionario po...   \n",
       "1      LA CALERA.- El jueves 29 de agosto, Carabinero...   \n",
       "2                                                (empty)   \n",
       "3                                                (empty)   \n",
       "4      Hasta el viernes 4 de octubre a las 23:59 hora...   \n",
       "...                                                  ...   \n",
       "20222  La ministra del Interior, Carolina Tohá, entre...   \n",
       "20223  La tarde de ayer jueves, la Brigada de Homicid...   \n",
       "20224  Aguas Andinas alerta sobre posibles afectacion...   \n",
       "20225  El Gobierno informó la dimisión del subsecreta...   \n",
       "20226  Un camión de carga volcó hacia su izquierda en...   \n",
       "\n",
       "                                                     url  \\\n",
       "0      https://www.cnnchile.com/pais/dos-lesionados-m...   \n",
       "1      https://www.observador.cl/la-calera-con-barric...   \n",
       "2      https://www.t13.cl/noticia/mundo/juez-del-supr...   \n",
       "3      https://laserenaonline.cl/2024/08/30/terminal-...   \n",
       "4      https://laregionhoy.cl/2024/08/30/uv-lanza-bas...   \n",
       "...                                                  ...   \n",
       "20222  https://www.biobiochile.cl/noticias/nacional/r...   \n",
       "20223  https://www.biobiochile.cl/noticias/nacional/r...   \n",
       "20224  https://www.biobiochile.cl/noticias/nacional/r...   \n",
       "20225  https://www.biobiochile.cl/noticias/nacional/c...   \n",
       "20226  https://www.biobiochile.cl/noticias/nacional/r...   \n",
       "\n",
       "                                                   title     id_news  \n",
       "0      Dos lesionados y un muerto deja enfrentamiento...  53.579.048  \n",
       "1      La Calera: Con barricada intentaron evitar que...  53.579.054  \n",
       "2      Tribunal Supremo de Brasil ordenó bloquear ‘X...  53.578.540  \n",
       "3      Terminal de buses de Illapel retoma operacione...  53.579.988  \n",
       "4      UV lanza bases de versión 2024 del Festival Na...  53.580.012  \n",
       "...                                                  ...         ...  \n",
       "20222  Ministra Tohá asegura que se resolvió la emerg...  53.878.844  \n",
       "20223  El último viaje de Rosa Lira: las pistas clave...  53.878.403  \n",
       "20224  Aguas Andinas anuncia suspensión de suministro...  53.879.010  \n",
       "20225  Renuncia Xavier Altamirano a la Subsecretaría ...  53.879.110  \n",
       "20226  Camión de carga vuelca en sector de Colcura en...  53.879.138  \n",
       "\n",
       "[20227 rows x 6 columns]"
      ]
     },
     "execution_count": 72,
     "metadata": {},
     "output_type": "execute_result"
    }
   ],
   "source": [
    "test_df"
   ]
  },
  {
   "cell_type": "markdown",
   "metadata": {},
   "source": [
    "Durante el mes de agosto en Chile, se han registrado un total de 20,227 noticias. A continuación, eliminaremos columnas que no sirva, como lo es la fecha, el medio y y el id.\n",
    "\n",
    "Es importante destacar que algunas filas de la columna 'text' contienen el texto de la noticia vacío (empty), como se observa en las filas 2 y 3. Procederemos a eliminar estas filas, ya que no aportan valor a nuestro desafío de clasificar noticias en las categorías mencionadas.\n"
   ]
  },
  {
   "cell_type": "code",
   "execution_count": 73,
   "metadata": {},
   "outputs": [],
   "source": [
    "# Para eliminar múltiples columnas\n",
    "test_df = test_df.drop(['date', 'media_outlet'], axis=1)\n",
    "\n",
    "# Elimina filas donde el valor de la columna 'text' es exactamente '(empty)'\n",
    "test_df = test_df[test_df['text'] != '(empty)']"
   ]
  },
  {
   "cell_type": "code",
   "execution_count": 74,
   "metadata": {},
   "outputs": [
    {
     "data": {
      "text/html": [
       "<div>\n",
       "<style scoped>\n",
       "    .dataframe tbody tr th:only-of-type {\n",
       "        vertical-align: middle;\n",
       "    }\n",
       "\n",
       "    .dataframe tbody tr th {\n",
       "        vertical-align: top;\n",
       "    }\n",
       "\n",
       "    .dataframe thead th {\n",
       "        text-align: right;\n",
       "    }\n",
       "</style>\n",
       "<table border=\"1\" class=\"dataframe\">\n",
       "  <thead>\n",
       "    <tr style=\"text-align: right;\">\n",
       "      <th></th>\n",
       "      <th>text</th>\n",
       "      <th>url</th>\n",
       "      <th>title</th>\n",
       "      <th>id_news</th>\n",
       "    </tr>\n",
       "  </thead>\n",
       "  <tbody>\n",
       "    <tr>\n",
       "      <th>0</th>\n",
       "      <td>Durante el enfrentamiento, el exfuncionario po...</td>\n",
       "      <td>https://www.cnnchile.com/pais/dos-lesionados-m...</td>\n",
       "      <td>Dos lesionados y un muerto deja enfrentamiento...</td>\n",
       "      <td>53.579.048</td>\n",
       "    </tr>\n",
       "    <tr>\n",
       "      <th>1</th>\n",
       "      <td>LA CALERA.- El jueves 29 de agosto, Carabinero...</td>\n",
       "      <td>https://www.observador.cl/la-calera-con-barric...</td>\n",
       "      <td>La Calera: Con barricada intentaron evitar que...</td>\n",
       "      <td>53.579.054</td>\n",
       "    </tr>\n",
       "    <tr>\n",
       "      <th>4</th>\n",
       "      <td>Hasta el viernes 4 de octubre a las 23:59 hora...</td>\n",
       "      <td>https://laregionhoy.cl/2024/08/30/uv-lanza-bas...</td>\n",
       "      <td>UV lanza bases de versión 2024 del Festival Na...</td>\n",
       "      <td>53.580.012</td>\n",
       "    </tr>\n",
       "    <tr>\n",
       "      <th>5</th>\n",
       "      <td>La jefa comunal, no obstante, valoró el mega o...</td>\n",
       "      <td>https://www.cnnchile.com/pais/claudia-pizarro-...</td>\n",
       "      <td>Alcaldesa Claudia Pizarro asegura que megaoper...</td>\n",
       "      <td>53.579.487</td>\n",
       "    </tr>\n",
       "    <tr>\n",
       "      <th>6</th>\n",
       "      <td>La Empresa Nacional de Minería (Enami) anunció...</td>\n",
       "      <td>https://www.emol.com/noticias/Economia/2024/08...</td>\n",
       "      <td>Las gigantes Río Tinto y BYD entre los posible...</td>\n",
       "      <td>53.579.105</td>\n",
       "    </tr>\n",
       "    <tr>\n",
       "      <th>...</th>\n",
       "      <td>...</td>\n",
       "      <td>...</td>\n",
       "      <td>...</td>\n",
       "      <td>...</td>\n",
       "    </tr>\n",
       "    <tr>\n",
       "      <th>20222</th>\n",
       "      <td>La ministra del Interior, Carolina Tohá, entre...</td>\n",
       "      <td>https://www.biobiochile.cl/noticias/nacional/r...</td>\n",
       "      <td>Ministra Tohá asegura que se resolvió la emerg...</td>\n",
       "      <td>53.878.844</td>\n",
       "    </tr>\n",
       "    <tr>\n",
       "      <th>20223</th>\n",
       "      <td>La tarde de ayer jueves, la Brigada de Homicid...</td>\n",
       "      <td>https://www.biobiochile.cl/noticias/nacional/r...</td>\n",
       "      <td>El último viaje de Rosa Lira: las pistas clave...</td>\n",
       "      <td>53.878.403</td>\n",
       "    </tr>\n",
       "    <tr>\n",
       "      <th>20224</th>\n",
       "      <td>Aguas Andinas alerta sobre posibles afectacion...</td>\n",
       "      <td>https://www.biobiochile.cl/noticias/nacional/r...</td>\n",
       "      <td>Aguas Andinas anuncia suspensión de suministro...</td>\n",
       "      <td>53.879.010</td>\n",
       "    </tr>\n",
       "    <tr>\n",
       "      <th>20225</th>\n",
       "      <td>El Gobierno informó la dimisión del subsecreta...</td>\n",
       "      <td>https://www.biobiochile.cl/noticias/nacional/c...</td>\n",
       "      <td>Renuncia Xavier Altamirano a la Subsecretaría ...</td>\n",
       "      <td>53.879.110</td>\n",
       "    </tr>\n",
       "    <tr>\n",
       "      <th>20226</th>\n",
       "      <td>Un camión de carga volcó hacia su izquierda en...</td>\n",
       "      <td>https://www.biobiochile.cl/noticias/nacional/r...</td>\n",
       "      <td>Camión de carga vuelca en sector de Colcura en...</td>\n",
       "      <td>53.879.138</td>\n",
       "    </tr>\n",
       "  </tbody>\n",
       "</table>\n",
       "<p>18220 rows × 4 columns</p>\n",
       "</div>"
      ],
      "text/plain": [
       "                                                    text  \\\n",
       "0      Durante el enfrentamiento, el exfuncionario po...   \n",
       "1      LA CALERA.- El jueves 29 de agosto, Carabinero...   \n",
       "4      Hasta el viernes 4 de octubre a las 23:59 hora...   \n",
       "5      La jefa comunal, no obstante, valoró el mega o...   \n",
       "6      La Empresa Nacional de Minería (Enami) anunció...   \n",
       "...                                                  ...   \n",
       "20222  La ministra del Interior, Carolina Tohá, entre...   \n",
       "20223  La tarde de ayer jueves, la Brigada de Homicid...   \n",
       "20224  Aguas Andinas alerta sobre posibles afectacion...   \n",
       "20225  El Gobierno informó la dimisión del subsecreta...   \n",
       "20226  Un camión de carga volcó hacia su izquierda en...   \n",
       "\n",
       "                                                     url  \\\n",
       "0      https://www.cnnchile.com/pais/dos-lesionados-m...   \n",
       "1      https://www.observador.cl/la-calera-con-barric...   \n",
       "4      https://laregionhoy.cl/2024/08/30/uv-lanza-bas...   \n",
       "5      https://www.cnnchile.com/pais/claudia-pizarro-...   \n",
       "6      https://www.emol.com/noticias/Economia/2024/08...   \n",
       "...                                                  ...   \n",
       "20222  https://www.biobiochile.cl/noticias/nacional/r...   \n",
       "20223  https://www.biobiochile.cl/noticias/nacional/r...   \n",
       "20224  https://www.biobiochile.cl/noticias/nacional/r...   \n",
       "20225  https://www.biobiochile.cl/noticias/nacional/c...   \n",
       "20226  https://www.biobiochile.cl/noticias/nacional/r...   \n",
       "\n",
       "                                                   title     id_news  \n",
       "0      Dos lesionados y un muerto deja enfrentamiento...  53.579.048  \n",
       "1      La Calera: Con barricada intentaron evitar que...  53.579.054  \n",
       "4      UV lanza bases de versión 2024 del Festival Na...  53.580.012  \n",
       "5      Alcaldesa Claudia Pizarro asegura que megaoper...  53.579.487  \n",
       "6      Las gigantes Río Tinto y BYD entre los posible...  53.579.105  \n",
       "...                                                  ...         ...  \n",
       "20222  Ministra Tohá asegura que se resolvió la emerg...  53.878.844  \n",
       "20223  El último viaje de Rosa Lira: las pistas clave...  53.878.403  \n",
       "20224  Aguas Andinas anuncia suspensión de suministro...  53.879.010  \n",
       "20225  Renuncia Xavier Altamirano a la Subsecretaría ...  53.879.110  \n",
       "20226  Camión de carga vuelca en sector de Colcura en...  53.879.138  \n",
       "\n",
       "[18220 rows x 4 columns]"
      ]
     },
     "execution_count": 74,
     "metadata": {},
     "output_type": "execute_result"
    }
   ],
   "source": [
    "test_df"
   ]
  },
  {
   "cell_type": "markdown",
   "metadata": {},
   "source": [
    "Tras limpiar el dataset y eliminar las filas con valores de texto vacíos, ahora contamos con 18,220 noticias. Esto significa que había 2,007 noticias que contenían texto vacío, lo cual no contribuye al análisis. Para verificar esta información, utilizamos el filtro en el buscador de Excel y confirmamos que efectivamente había 2,007 noticias con texto vacío (empty).\n",
    "\n",
    "<img src=\"img/img.png\" width=\"600\" height=\"400\">\n",
    "\n"
   ]
  },
  {
   "cell_type": "code",
   "execution_count": 75,
   "metadata": {},
   "outputs": [],
   "source": [
    "# Restablecer max_colwidth a su valor predeterminado\n",
    "# pd.set_option('display.max_colwidth', None)\n",
    "# pd.reset_option('display.max_colwidth')\n",
    "## Esto es para ver las columnas de df bien"
   ]
  },
  {
   "cell_type": "markdown",
   "metadata": {},
   "source": [
    "Usarmeos el dataset de **train_data.csv** utilizado en clases, este dataset ya viene con datos etiquetamos, por lo cual podemos usarlo para entrenar al modelo y luego clasificar al dataset de noticias de Agosto."
   ]
  },
  {
   "cell_type": "markdown",
   "metadata": {},
   "source": [
    "2. Lectura dataset de entrenamiento"
   ]
  },
  {
   "cell_type": "code",
   "execution_count": 76,
   "metadata": {},
   "outputs": [],
   "source": [
    "train_df = pd.read_csv('data/train_data.csv')"
   ]
  },
  {
   "cell_type": "code",
   "execution_count": 77,
   "metadata": {},
   "outputs": [
    {
     "name": "stdout",
     "output_type": "stream",
     "text": [
      "Las etiquetas son: politica, tecnologia, accidentes, ciencia, medio_ambiente, salud, entretenimiento, educacion, internacional, economia, deportes\n"
     ]
    }
   ],
   "source": [
    "# Ver todas las etiquetas únicas en la columna \n",
    "etiquetas = train_df['clase'].unique()\n",
    "print(f\"Las etiquetas son: {', '.join(etiquetas)}\")"
   ]
  },
  {
   "cell_type": "markdown",
   "metadata": {},
   "source": [
    "3. Entrenamiento del modelo de Inteligencia Articial"
   ]
  },
  {
   "cell_type": "code",
   "execution_count": 78,
   "metadata": {},
   "outputs": [
    {
     "name": "stdout",
     "output_type": "stream",
     "text": [
      "Entrenamiento completado.\n"
     ]
    }
   ],
   "source": [
    "from sklearn.model_selection import train_test_split\n",
    "from sklearn.feature_extraction.text import TfidfVectorizer\n",
    "from sklearn.ensemble import RandomForestClassifier\n",
    "import spacy\n",
    "\n",
    "# Cargar el modelo de spaCy para español\n",
    "nlp = spacy.load(\"es_core_news_sm\")\n",
    "\n",
    "# Definir stop words (puedes personalizar esta lista)\n",
    "# stop_words = list(nlp.Defaults.stop_words)  # Lista de stop words de spaCy\n",
    "stop_words = None\n",
    "\n",
    "# Inicializar el vectorizador TF-IDF\n",
    "vectorizer = TfidfVectorizer(max_features=5000, stop_words=stop_words)\n",
    "\n",
    "# Crear las matrices de características (X) y etiquetas (y) a partir del dataset de entrenamiento\n",
    "X = vectorizer.fit_transform(train_df['text'])\n",
    "y = train_df['clase']\n",
    "\n",
    "# Dividir el dataset en conjunto de entrenamiento y validación\n",
    "X_train, X_val, y_train, y_val = train_test_split(X, y, test_size=0.2, random_state=42)\n",
    "\n",
    "# Inicializar el modelo de Random Forest\n",
    "model = RandomForestClassifier(n_estimators=100, random_state=42)\n",
    "\n",
    "# Entrenar el modelo\n",
    "model.fit(X_train, y_train)\n",
    "\n",
    "print(\"Entrenamiento completado.\")\n"
   ]
  },
  {
   "cell_type": "markdown",
   "metadata": {},
   "source": [
    "4. Predecir el modelo ya entrenado"
   ]
  },
  {
   "cell_type": "code",
   "execution_count": 79,
   "metadata": {},
   "outputs": [
    {
     "name": "stdout",
     "output_type": "stream",
     "text": [
      "Evaluación en el conjunto de validación:\n",
      "                 precision    recall  f1-score   support\n",
      "\n",
      "     accidentes       0.73      0.74      0.73       406\n",
      "        ciencia       0.66      0.43      0.52       414\n",
      "       deportes       0.53      0.58      0.56       387\n",
      "       economia       0.58      0.68      0.63       408\n",
      "      educacion       0.60      0.57      0.59       395\n",
      "entretenimiento       0.52      0.51      0.51       391\n",
      "  internacional       0.76      0.87      0.81       380\n",
      " medio_ambiente       0.61      0.65      0.63       427\n",
      "       politica       0.71      0.75      0.73       349\n",
      "          salud       0.58      0.48      0.53       409\n",
      "     tecnologia       0.72      0.79      0.75       434\n",
      "\n",
      "       accuracy                           0.64      4400\n",
      "      macro avg       0.64      0.64      0.64      4400\n",
      "   weighted avg       0.64      0.64      0.63      4400\n",
      "\n",
      "Clasificación en el conjunto de test completada...\n"
     ]
    }
   ],
   "source": [
    "from sklearn.metrics import classification_report\n",
    "\n",
    "# Predecir las etiquetas para el conjunto de validación\n",
    "y_pred = model.predict(X_val)\n",
    "\n",
    "# Mostrar el informe de clasificación para las predicciones en validación\n",
    "print(\"Evaluación en el conjunto de validación:\")\n",
    "print(classification_report(y_val, y_pred))\n",
    "\n",
    "# Preparar el conjunto de test (aplicar el mismo vectorizador a los datos de test)\n",
    "\n",
    "X_test = vectorizer.transform(test_df['text'])\n",
    "\n",
    "# Predecir las etiquetas para el conjunto de test\n",
    "test_df['category'] = model.predict(X_test)\n",
    "\n",
    "print(\"Clasificación en el conjunto de test completada...\")\n"
   ]
  },
  {
   "cell_type": "markdown",
   "metadata": {},
   "source": [
    "Podemos concluir que nuestro modelo de inteligencia artificial ofrece métricas aceptables, con un rendimiento general adecuado.\n",
    "\n",
    "A continuación, se presentan las principales métricas obtenidas por el modelo:\n",
    "\n",
    "- accidentes: 73% de precisión y 74% de recall, con un f1-score de 73%.  \n",
    "- ciencia: La precisión es del 66%, mientras que el recall es del 43%, con un f1-score de 52%.  \n",
    "- deportes: Muestra una precisión del 53% y un recall del 58%, con un f1-score de 56%.  \n",
    "- economia: Obtiene una precisión del 58% y un recall del 68%, con un f1-score de 63%.  \n",
    "- educacion: Presenta una precisión del 60% y un recall del 57%, logrando un f1-score de 59%.  \n",
    "- entretenimiento: Tiene una precisión del 52% y un recall del 51%, con un f1-score de 51%.  \n",
    "- internacional: Sobresale con una precisión del 76% y un recall del 87%, alcanzando un f1-score de 81%.  \n",
    "- medio_ambiente: Registra una precisión del 61% y un recall del 65%, con un f1-score de 63%.  \n",
    "- politica: Presenta una precisión del 71% y un recall del 75%, con un f1-score de 73%.  \n",
    "- salud: Muestra una precisión del 58% y un recall del 48%, logrando un f1-score de 53%.  \n",
    "- tecnologia: Obtiene una precisión del 72% y un recall del 79%, con un f1-score de 75%.  \n",
    "\n",
    "\n",
    "Se puede ver que las clases con la metrica de recall mas bajas son de 'ciencia' y 'salud'"
   ]
  },
  {
   "cell_type": "markdown",
   "metadata": {},
   "source": [
    "Aqui estamos guardando todas las noticias clasificadas de acuerdo al modelo."
   ]
  },
  {
   "cell_type": "code",
   "execution_count": 80,
   "metadata": {},
   "outputs": [],
   "source": [
    "# Guardar el resultado en un archivo CSV\n",
    "test_df.to_csv('salidas_intermedias/predicciones_todas.csv', index=False)"
   ]
  },
  {
   "cell_type": "markdown",
   "metadata": {},
   "source": [
    "5. Guardar en un CSV 100 noticias aleatorias ya clasificadas para el fin del desafio 1."
   ]
  },
  {
   "cell_type": "code",
   "execution_count": 81,
   "metadata": {},
   "outputs": [],
   "source": [
    "random_sample = test_df.sample(n=100) # Tomar 100 aleatorias del csv de salida\n",
    "\n",
    "# Guardar el resultado en un archivo CSV\n",
    "random_sample.to_csv('salida_desafios/desafio1.csv', index=False) # Esto de acuerdo al enunciado"
   ]
  },
  {
   "cell_type": "markdown",
   "metadata": {},
   "source": [
    "Ver la cantidad de noticias que fueron clasificadas en cada categoria."
   ]
  },
  {
   "cell_type": "code",
   "execution_count": 82,
   "metadata": {},
   "outputs": [
    {
     "data": {
      "text/plain": [
       "category\n",
       "accidentes         22\n",
       "ciencia            16\n",
       "internacional      12\n",
       "politica           11\n",
       "deportes           10\n",
       "entretenimiento     8\n",
       "tecnologia          7\n",
       "economia            5\n",
       "salud               3\n",
       "medio_ambiente      3\n",
       "educacion           3\n",
       "Name: count, dtype: int64"
      ]
     },
     "execution_count": 82,
     "metadata": {},
     "output_type": "execute_result"
    }
   ],
   "source": [
    "label_counts = random_sample['category'].value_counts()\n",
    "label_counts"
   ]
  },
  {
   "cell_type": "markdown",
   "metadata": {},
   "source": [
    "6. Cargar en un DataFrame el CSV de salida del desafío 1 para utilizarlo en el desafío 2"
   ]
  },
  {
   "cell_type": "code",
   "execution_count": 83,
   "metadata": {},
   "outputs": [],
   "source": [
    "\n",
    "file = \"salida_desafios/desafio1.csv\"\n",
    "salida_df = pd.read_csv(file)"
   ]
  },
  {
   "cell_type": "code",
   "execution_count": 84,
   "metadata": {},
   "outputs": [
    {
     "data": {
      "text/html": [
       "<div>\n",
       "<style scoped>\n",
       "    .dataframe tbody tr th:only-of-type {\n",
       "        vertical-align: middle;\n",
       "    }\n",
       "\n",
       "    .dataframe tbody tr th {\n",
       "        vertical-align: top;\n",
       "    }\n",
       "\n",
       "    .dataframe thead th {\n",
       "        text-align: right;\n",
       "    }\n",
       "</style>\n",
       "<table border=\"1\" class=\"dataframe\">\n",
       "  <thead>\n",
       "    <tr style=\"text-align: right;\">\n",
       "      <th></th>\n",
       "      <th>text</th>\n",
       "      <th>url</th>\n",
       "      <th>title</th>\n",
       "      <th>id_news</th>\n",
       "      <th>category</th>\n",
       "    </tr>\n",
       "  </thead>\n",
       "  <tbody>\n",
       "    <tr>\n",
       "      <th>0</th>\n",
       "      <td>Distintos usuarios denunciaron el hecho a trav...</td>\n",
       "      <td>https://www.cnnchile.com/pais/otra-vez-cortes-...</td>\n",
       "      <td>Otra vez cortes de luz en Santiago: Reportan s...</td>\n",
       "      <td>53.427.494</td>\n",
       "      <td>ciencia</td>\n",
       "    </tr>\n",
       "    <tr>\n",
       "      <th>1</th>\n",
       "      <td>El centrocampista francés Eduardo Camavinga su...</td>\n",
       "      <td>https://www.biobiochile.cl/noticias/deportes/f...</td>\n",
       "      <td>Real Madrid confirman dura lesión de francés C...</td>\n",
       "      <td>53.877.912</td>\n",
       "      <td>deportes</td>\n",
       "    </tr>\n",
       "    <tr>\n",
       "      <th>2</th>\n",
       "      <td>La empresa JetSmart se refirió este lunes a la...</td>\n",
       "      <td>https://www.emol.com/noticias/Nacional/2024/08...</td>\n",
       "      <td>Multa por pasajeros sin documentos: JetSmart d...</td>\n",
       "      <td>53.594.498</td>\n",
       "      <td>internacional</td>\n",
       "    </tr>\n",
       "    <tr>\n",
       "      <th>3</th>\n",
       "      <td>Carabineros logró detener a dos sujetos en Cal...</td>\n",
       "      <td>https://www.biobiochile.cl/noticias/nacional/r...</td>\n",
       "      <td>Plan Enjambre de Carabineros permite detener a...</td>\n",
       "      <td>53.565.756</td>\n",
       "      <td>accidentes</td>\n",
       "    </tr>\n",
       "    <tr>\n",
       "      <th>4</th>\n",
       "      <td>El carabinero de franco asesinado afuera del T...</td>\n",
       "      <td>https://www.biobiochile.cl/noticias/nacional/r...</td>\n",
       "      <td>Sargento 2do y padre de dos hijos: Rodrigo Pug...</td>\n",
       "      <td>53.878.949</td>\n",
       "      <td>accidentes</td>\n",
       "    </tr>\n",
       "  </tbody>\n",
       "</table>\n",
       "</div>"
      ],
      "text/plain": [
       "                                                text  \\\n",
       "0  Distintos usuarios denunciaron el hecho a trav...   \n",
       "1  El centrocampista francés Eduardo Camavinga su...   \n",
       "2  La empresa JetSmart se refirió este lunes a la...   \n",
       "3  Carabineros logró detener a dos sujetos en Cal...   \n",
       "4  El carabinero de franco asesinado afuera del T...   \n",
       "\n",
       "                                                 url  \\\n",
       "0  https://www.cnnchile.com/pais/otra-vez-cortes-...   \n",
       "1  https://www.biobiochile.cl/noticias/deportes/f...   \n",
       "2  https://www.emol.com/noticias/Nacional/2024/08...   \n",
       "3  https://www.biobiochile.cl/noticias/nacional/r...   \n",
       "4  https://www.biobiochile.cl/noticias/nacional/r...   \n",
       "\n",
       "                                               title     id_news  \\\n",
       "0  Otra vez cortes de luz en Santiago: Reportan s...  53.427.494   \n",
       "1  Real Madrid confirman dura lesión de francés C...  53.877.912   \n",
       "2  Multa por pasajeros sin documentos: JetSmart d...  53.594.498   \n",
       "3  Plan Enjambre de Carabineros permite detener a...  53.565.756   \n",
       "4  Sargento 2do y padre de dos hijos: Rodrigo Pug...  53.878.949   \n",
       "\n",
       "        category  \n",
       "0        ciencia  \n",
       "1       deportes  \n",
       "2  internacional  \n",
       "3     accidentes  \n",
       "4     accidentes  "
      ]
     },
     "execution_count": 84,
     "metadata": {},
     "output_type": "execute_result"
    }
   ],
   "source": [
    "salida_df.head()"
   ]
  },
  {
   "cell_type": "markdown",
   "metadata": {},
   "source": [
    "Eliminar la columna URL ya que no se utiliza para este desafio"
   ]
  },
  {
   "cell_type": "code",
   "execution_count": 85,
   "metadata": {},
   "outputs": [],
   "source": [
    "salida_df = salida_df.drop(['url'], axis=1)"
   ]
  },
  {
   "cell_type": "code",
   "execution_count": 86,
   "metadata": {},
   "outputs": [
    {
     "data": {
      "text/html": [
       "<div>\n",
       "<style scoped>\n",
       "    .dataframe tbody tr th:only-of-type {\n",
       "        vertical-align: middle;\n",
       "    }\n",
       "\n",
       "    .dataframe tbody tr th {\n",
       "        vertical-align: top;\n",
       "    }\n",
       "\n",
       "    .dataframe thead th {\n",
       "        text-align: right;\n",
       "    }\n",
       "</style>\n",
       "<table border=\"1\" class=\"dataframe\">\n",
       "  <thead>\n",
       "    <tr style=\"text-align: right;\">\n",
       "      <th></th>\n",
       "      <th>text</th>\n",
       "      <th>title</th>\n",
       "      <th>id_news</th>\n",
       "      <th>category</th>\n",
       "    </tr>\n",
       "  </thead>\n",
       "  <tbody>\n",
       "    <tr>\n",
       "      <th>0</th>\n",
       "      <td>Distintos usuarios denunciaron el hecho a trav...</td>\n",
       "      <td>Otra vez cortes de luz en Santiago: Reportan s...</td>\n",
       "      <td>53.427.494</td>\n",
       "      <td>ciencia</td>\n",
       "    </tr>\n",
       "    <tr>\n",
       "      <th>1</th>\n",
       "      <td>El centrocampista francés Eduardo Camavinga su...</td>\n",
       "      <td>Real Madrid confirman dura lesión de francés C...</td>\n",
       "      <td>53.877.912</td>\n",
       "      <td>deportes</td>\n",
       "    </tr>\n",
       "    <tr>\n",
       "      <th>2</th>\n",
       "      <td>La empresa JetSmart se refirió este lunes a la...</td>\n",
       "      <td>Multa por pasajeros sin documentos: JetSmart d...</td>\n",
       "      <td>53.594.498</td>\n",
       "      <td>internacional</td>\n",
       "    </tr>\n",
       "    <tr>\n",
       "      <th>3</th>\n",
       "      <td>Carabineros logró detener a dos sujetos en Cal...</td>\n",
       "      <td>Plan Enjambre de Carabineros permite detener a...</td>\n",
       "      <td>53.565.756</td>\n",
       "      <td>accidentes</td>\n",
       "    </tr>\n",
       "    <tr>\n",
       "      <th>4</th>\n",
       "      <td>El carabinero de franco asesinado afuera del T...</td>\n",
       "      <td>Sargento 2do y padre de dos hijos: Rodrigo Pug...</td>\n",
       "      <td>53.878.949</td>\n",
       "      <td>accidentes</td>\n",
       "    </tr>\n",
       "  </tbody>\n",
       "</table>\n",
       "</div>"
      ],
      "text/plain": [
       "                                                text  \\\n",
       "0  Distintos usuarios denunciaron el hecho a trav...   \n",
       "1  El centrocampista francés Eduardo Camavinga su...   \n",
       "2  La empresa JetSmart se refirió este lunes a la...   \n",
       "3  Carabineros logró detener a dos sujetos en Cal...   \n",
       "4  El carabinero de franco asesinado afuera del T...   \n",
       "\n",
       "                                               title     id_news  \\\n",
       "0  Otra vez cortes de luz en Santiago: Reportan s...  53.427.494   \n",
       "1  Real Madrid confirman dura lesión de francés C...  53.877.912   \n",
       "2  Multa por pasajeros sin documentos: JetSmart d...  53.594.498   \n",
       "3  Plan Enjambre de Carabineros permite detener a...  53.565.756   \n",
       "4  Sargento 2do y padre de dos hijos: Rodrigo Pug...  53.878.949   \n",
       "\n",
       "        category  \n",
       "0        ciencia  \n",
       "1       deportes  \n",
       "2  internacional  \n",
       "3     accidentes  \n",
       "4     accidentes  "
      ]
     },
     "execution_count": 86,
     "metadata": {},
     "output_type": "execute_result"
    }
   ],
   "source": [
    "salida_df.head()"
   ]
  },
  {
   "cell_type": "code",
   "execution_count": 87,
   "metadata": {},
   "outputs": [],
   "source": [
    "# Guardar el resultado en un archivo CSV\n",
    "# salida_df.to_csv('salidas_intermedias/desafio1_sin_url.csv', index=False)"
   ]
  },
  {
   "cell_type": "markdown",
   "metadata": {},
   "source": [
    "7. Proceso de Extracción y Geocodificación de Datos de Noticias"
   ]
  },
  {
   "cell_type": "code",
   "execution_count": 88,
   "metadata": {},
   "outputs": [
    {
     "name": "stdout",
     "output_type": "stream",
     "text": [
      "Proceso completo. Archivo guardado como 'salida_resultados.csv'.\n"
     ]
    }
   ],
   "source": [
    "import spacy\n",
    "from geopy.geocoders import Nominatim\n",
    "\n",
    "# Cargar el modelo en español de spaCy\n",
    "nlp = spacy.load('es_core_news_sm')\n",
    "\n",
    "# Inicializar el geolocalizador\n",
    "geolocator = Nominatim(user_agent=\"Sophia\", timeout=10)\n",
    "\n",
    "\n",
    "# Función para extraer el evento principal (verbos y sustantivos clave)\n",
    "def extract_event(text):\n",
    "    doc = nlp(text)\n",
    "    event = []\n",
    "    for token in doc:\n",
    "        if token.pos_ in ['VERB', 'NOUN']:  # Tomamos los verbos y sustantivos como evento principal\n",
    "            event.append(token.text)\n",
    "    return \" \".join(event[:5])  # Devolvemos las primeras 5 palabras relevantes\n",
    "\n",
    "# Función para extraer la dirección utilizando entidades geográficas\n",
    "def extract_address(text):\n",
    "    doc = nlp(text)\n",
    "    for ent in doc.ents:\n",
    "        if ent.label_ == \"LOC\":  # Si la entidad es una ubicación\n",
    "            return ent.text\n",
    "    return None\n",
    "\n",
    "# Función para geocodificar y obtener latitud y longitud\n",
    "def geocode_address(address):\n",
    "    location = geolocator.geocode(address)\n",
    "    if location:\n",
    "        return location.latitude, location.longitude\n",
    "    return None, None\n",
    "\n",
    "# Procesar cada noticia en el DataFrame\n",
    "def process_news(df):\n",
    "    df['event'] = df['text'].apply(extract_event)  # Extraer evento principal\n",
    "    df['address'] = df['text'].apply(extract_address)  # Extraer dirección\n",
    "    df['latitud'], df['longitud'] = zip(*df['address'].apply(geocode_address))  # Geocodificar dirección\n",
    "    return df\n",
    "\n",
    "# Aplicar el procesamiento a tu dataframe\n",
    "processed_df = process_news(salida_df)\n",
    "\n",
    "# Seleccionar las columnas necesarias para la salida\n",
    "output_df = processed_df[['id_news', 'event', 'category', 'address', 'latitud', 'longitud']]\n",
    "\n",
    "# Guardar el archivo procesado en formato CSV\n",
    "output_df.to_csv('salida_desafios/desafio2.csv', index=False)\n",
    "\n",
    "print(\"Proceso completo. Archivo guardado como 'salida_resultados.csv'.\")\n"
   ]
  },
  {
   "cell_type": "markdown",
   "metadata": {},
   "source": [
    "Tras revisar el archivo CSV de salida, se puede observar que la mayoría de los datos están correctamente estructurados, especialmente en lo que respecta a la comuna (ciudad), latitud y longitud. Sin embargo, es inevitable que algunos errores persistan, a pesar de los esfuerzos realizados para corregirlos. En relación con la presentación de la columna **address**, no fue posible lograr el formato deseado. Como resultado, se decidió mostrar únicamente la comuna o ciudad donde ocurrió cada noticia. Aunque se intentó incluir la calle y el país utilizando las bibliotecas pertinentes, esto no se logró satisfactoriamente.\n",
    "\n",
    "Se podría haber utilizado otras técnicas, como CSV adicionales o estructuras de datos que contengan algunas comunas y su respectivo país, pero considero que esto sería una solución \"trampa\", ya que no se estaría utilizando puramente técnicas de tratamiento automático del lenguaje."
   ]
  }
 ],
 "metadata": {
  "kernelspec": {
   "display_name": "Python 3",
   "language": "python",
   "name": "python3"
  },
  "language_info": {
   "codemirror_mode": {
    "name": "ipython",
    "version": 3
   },
   "file_extension": ".py",
   "mimetype": "text/x-python",
   "name": "python",
   "nbconvert_exporter": "python",
   "pygments_lexer": "ipython3",
   "version": "3.10.9"
  }
 },
 "nbformat": 4,
 "nbformat_minor": 2
}
